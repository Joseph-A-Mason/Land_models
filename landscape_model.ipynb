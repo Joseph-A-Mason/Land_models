{
 "cells": [
  {
   "cell_type": "markdown",
   "metadata": {},
   "source": [
    "## Using a Landscape Evolution Model. Part 2, Drainage Network in a Complex Landscape\n",
    "\n",
    "This notebook illustrates how numerical landscape evolution models simulate change in the landscape over time. We start with a real landscape, imported from a digital elevation model of a landscape in Nebraska with high drainage density (many closely spaced valleys). The model then simulates evolution of this landscape over thousands of years, based on assumptions about the processes that erode this landscape. You can change the assumptions and see how that changes the resulting landscape. Using this particular real landscape is helpful for focusing on how different assumptions about processes that change drainage density. The introductory material here describing how model works is the same as in *Using a Landscape Evolution Model. Part 1, A Single Ridge*.\n",
    "\n",
    "This particular model is put together from components of Landlab 2.0, a toolbox for modeling earth surface processes and landscape evolution (Hobley et al., 2017). Landlab 2.0 has numerous components that can be combined in various ways and modified as needed, all in the Python language. You can look at the Python code in this notebook if you have programming experience, but it's not necessary to know how the code works to run the model or change some settings. Much of the code used here is adapted from Landlab tutorials and teaching notebooks created by Nicole Gasparini, Tulane University, based on models originally written by Andy Wickert (University of Minnesota), Greg Tucker (University of Colorado), and Stephen Lancaster (Oregon State University)\n",
    "\n",
    "## Processes in the Model\n",
    "\n",
    "You can think of the landscape in the model as a grid like the DEMs you've used in ArcGIS Pro, with an elevation assigned to each grid cell. As with a DEM in ArcGIS, Landlab code calculates the slope of each grid cell based on its elevation relative to its neighboring cells, and it can also calculate the drainage area upslope that contributes runoff to a grid cell. There are some details on how this is actually done in Landlab that are important in putting together a working model but they aren't important for our purposes here. The important point is Landlab has functions that take the upslope drainage area and/or slope and calculate net erosion or deposition of material at each. \n",
    "\n",
    "Processes considered in this model are grouped into two categories. **Diffusive processes** are those involving slow downhill movement of soil by creep, animal burrowing, and related mechanisms, all often assumed to occur at a rate proportional to the local slope. **Slopewash and fluvial processes** (just referred to as \"fluvial processes\" from here on, involve erosion and movement of soil and rock by flowing water. This can involve sheets or thin strands of water on a hillslope, or water flowing in a well-defined channel. For these processes, we assumed that the rate of downhill transport is a function of both the local slope and the upslope area contributing water to a given location on a hillslope or in a channel. *We won't consider mass wasting processes such as landslides or debris flows at all in this model*, although there are more complex landscape evolution models that do include them.\n",
    "\n",
    "For **diffusive processes**, we can write a simple equation for the rate of downhill transport of soil ($Q_s$):\n",
    "\n",
    "$$Q_s=-DS$$\n",
    "\n",
    "*S* is the *local slope*, defined as fall in elevation/horizontal distance (this is the tangent of the slope angle, and written as a percentage it is also referred to as the \"percent slope\"). Note that we always measure *S* along the direction of steepest descent, and that *S* has a *negative value* because we are defining it in terms of negative change in elevation. *D* is a constant, that depends on local factors that influence downslope movement, such as the type of soil, vegetation cover, and climate. \n",
    "\n",
    "*Although this part is not essential to understand for this class, it may be interesting if you have enough background in calculus to understand it.* We could also write *S* as $\\partial z/\\partial x$ where *z* is elevation of the land surface and *x* is horizontal distance in the downslope direction. Then we could write the following equation for the rate of change of elevation over time ($\\partial z/\\partial t$) on the slope:\n",
    "\n",
    "$$\\frac{\\partial z}{\\partial t}= U + D\\frac{\\partial^2 z}{\\partial x^2}$$\n",
    "\n",
    "In this equation, $\\partial^2 z/\\partial x^2$ is the curvature of the slope (how fast it's getting steeper or less steep). $\\partial^2 z/\\partial x^2$ is negative when the slope is convex, getting steeper downhill, and is positive when the slope is concave. U is the tectonic uplift rate, which is positive. \n",
    "\n",
    "*Again, understanding this second equation is not essential for this course*. Instead, we can express what it means verbally like this: On a convex slope, diffusive processes cause net erosion. On a concave slope they cause net deposition of sediment, or upbuilding of the landsurface. Tectonic uplift will offset erosion, reducing the overall loss in elevation or even causing a net increase in elevation. Uplift will add together with net deposition of sediment, increasing the overall increase in elevation. \n",
    "\n",
    "Key points to remember on diffusive processes: 1) They produce a *convex slope* over time, 2) The rate of erosion is greater where convexity is greater (slope gets steeper downhill faster), 3)Erosion is offset by tectonic uplift, so the rate of change of surface elevation is related to D, curvature of the slope, and the tectonic uplift.\n",
    "\n",
    "For **fluvial processes**, we use this equation for the rate of erosion (*e*) by flowing water at a particular point on a slope or in a channel: \n",
    "\n",
    "$$e=K_{sp} A^mS^n$$\n",
    "\n",
    "In this equation, $K_{sp}$ is a constant related to the material being eroded and other local factors,and *A* is the area upslope or upstream that contributes water to the point of interest. *S* is land surface slope, defined the same way as for diffusive processes. Note that both *A* and *S* have exponents; *m* is often assumed to be 0.5 and *n* is often set at 1.0, although other values might apply in some cases. Lowering of the land surface by fluvial erosion can be offset by tectonic uplift in this case as well, so the change in land surface elevation will be a function of both the erosion rate and the uplift rate.\n",
    "\n",
    "Using this equation to model fluvial processes essentially assumes that the erosion rate is proportional to *stream power*. As discussed in lecture, stream power is equal to stream discharge times slope. This equation uses the idea that discharge should be a function of drainage area (A). Using 0.5 for the value of *m* assumes that discharge is proportional to the square root of drainage area. An alternative way to model fluvial processes would be to assume that erosion is proportional to shear stress at the base of the flowing water, but we won't use that idea here.\n",
    "\n",
    "Often, geomorphologists find evidence for a *threshold* value of stream power (or shear stress). That is, the stream power has to reach a certain level before any erosion can occur. In this model, the threshold stream power can be zero (the default) or somewhat higher.\n",
    "\n",
    "## Using the Model\n",
    "\n",
    "A. Now let's use the model. First, we have to load a number of parts of Python and Landlab that we need for this particular model. Don't change any of the code here, just run the code by clicking on the \"run\" symbol."
   ]
  },
  {
   "cell_type": "code",
   "execution_count": null,
   "metadata": {},
   "outputs": [],
   "source": [
    "from landlab.components import LinearDiffuser\n",
    "from landlab.components import FlowAccumulator, FastscapeEroder\n",
    "from landlab.plot import imshow_grid\n",
    "from landlab.io import read_esri_ascii\n",
    "from matplotlib.pyplot import figure, show, plot, xlabel, ylabel, title, loglog\n",
    "import numpy as np\n",
    "import warnings\n",
    "warnings.filterwarnings('ignore')"
   ]
  },
  {
   "cell_type": "markdown",
   "metadata": {},
   "source": [
    "B. Now we import a DEM that was created in ArcGIS and make it into the grid used for the model. No changes needed here either, just run the code."
   ]
  },
  {
   "cell_type": "code",
   "execution_count": null,
   "metadata": {},
   "outputs": [],
   "source": [
    "(mg, z) = read_esri_ascii('lh_model.txt', name = 'topographic__elevation')\n",
    "#mg.at_node.keys()\n",
    "#['topographic__elevation']\n",
    "for edge in (mg.nodes_at_top_edge, mg.nodes_at_bottom_edge, mg.nodes_at_left_edge, mg.nodes_at_right_edge):\n",
    "    mg.status_at_node[edge] = mg.BC_NODE_IS_FIXED_VALUE"
   ]
  },
  {
   "cell_type": "markdown",
   "metadata": {},
   "source": [
    "C. The next step is to set the values of $D$ (used to model diffusive processes) and $K_{sp}$ (used to model fluvial processes). Higher $D$ will make diffusive processes more effective, while higher $K_{sp}$ will do the same for fluvial processes. Neither $D$ or $K_{sp}$ should be set to zero for this lab. As explained in the lab instructions, we'll start by comparing two scenarios with two very different balances between diffusive and fluvial processes. Initially, $D$ is set at 0.0001 and $K_sp$ at 0.0002. Following the lab assignment instructions, you will change these for additional simulations after resetting the model. "
   ]
  },
  {
   "cell_type": "code",
   "execution_count": null,
   "metadata": {},
   "outputs": [],
   "source": [
    "#set diffusion coefficient (initially set at 0.0001, can be varied between 0.0001 and 1.0)\n",
    "D = 0.0001\n",
    "\n",
    "#set stream power erosion coefficient (initially set at 0.0002, can be changed to a value between 0.0001 and 0.004)\n",
    "Ksp = 0.0004"
   ]
  },
  {
   "cell_type": "markdown",
   "metadata": {},
   "source": [
    "D. Now we set the stream power threshold. Initially, leave this at 0.0, but following the lab assignment instructions, you will later change it to a higher value. Leave the tectonic uplift rate at 0.0 for this lab."
   ]
  },
  {
   "cell_type": "code",
   "execution_count": null,
   "metadata": {},
   "outputs": [],
   "source": [
    "#set stream power erosion threshold (originally set at 0, can be from 0 to 0.002)\n",
    "threshold = 0.0\n",
    "\n",
    "#set uplift rate, in meters per year (originally set at 0, can be varied between 0 and 0.10)\n",
    "uplift_rate = 0.0"
   ]
  },
  {
   "cell_type": "markdown",
   "metadata": {},
   "source": [
    "E. The following code block should be left unchanged; just run it as is. In it, we create a variable to keep track of erosion and deposition, and functions to simulate diffusive and fluvial processes step-by-step. The grid size and time steps of the model are set. The grid size is 2X2 meters. "
   ]
  },
  {
   "cell_type": "code",
   "execution_count": null,
   "metadata": {},
   "outputs": [],
   "source": [
    "#create erosion-deposition logging variables\n",
    "erode_dep = mg.add_zeros('node', 'erode_dep')\n",
    "t_erode_dep = mg.add_zeros('node', 't_erode_dep')\n",
    "    \n",
    "fr = FlowAccumulator(\n",
    "    mg,\n",
    "    flow_director=\"FlowDirectorD8\",  # use D8 routing\n",
    "    depression_finder=\"LakeMapperBarnes\",  # pit filler\n",
    "    method=\"D8\",  # pit filler use D8 too\n",
    "    redirect_flow_steepest_descent=True,  # re-calculate flow dirs\n",
    "    reaccumulate_flow=True,  # re-calculate drainagea area\n",
    ")\n",
    "\n",
    "#model diffusive hillslope processes\n",
    "lin_diffuse = LinearDiffuser(mg, linear_diffusivity=D)\n",
    "\n",
    "#model stream power-based erosion\n",
    "erode = FastscapeEroder(mg, K_sp=Ksp, m_sp=0.5, n_sp=1.0, threshold_sp=threshold)\n",
    "\n",
    "#set grid size, length scale, time scale (10 yrs per timestep, \n",
    "#5000 years total). Then calculate number of loops we'll need (nt) and\n",
    "#uplift per 10-yr timestep\n",
    "nrows = 292\n",
    "ncols = 275\n",
    "dx = 2.0\n",
    "total_t = 10000\n",
    "dt = 20\n",
    "nt = int(total_t // dt)\n",
    "uplift_per_step = uplift_rate * dt"
   ]
  },
  {
   "cell_type": "markdown",
   "metadata": {},
   "source": [
    "F. Now, we plot a **map of the initial topography**, an **elevation profile** from north to south through the middle of the grid, and  all of which you should see below the code block when you run it.**You can copy or save any graphics produced here or later in the notebook for use in your lab assignment report**"
   ]
  },
  {
   "cell_type": "code",
   "execution_count": null,
   "metadata": {},
   "outputs": [],
   "source": [
    "#Show initial landscape\n",
    "figure('iniital surface')\n",
    "imshow_grid(mg, 'topographic__elevation', grid_units=['m','m'], var_name='Elevation (m)')\n",
    "\n",
    "#show initial cross profile\n",
    "figure('topographic profile')\n",
    "elev_rast = mg.node_vector_to_raster(z)\n",
    "ycoord_rast = mg.node_vector_to_raster(mg.node_y)\n",
    "ncols = mg.number_of_node_columns\n",
    "im = plot(ycoord_rast[:, int(ncols // 2)], elev_rast[:, int(ncols // 2)])\n",
    "xlabel('horizontal distance (m)')\n",
    "ylabel('vertical distance (m)')\n",
    "title('N-S cross section')"
   ]
  },
  {
   "cell_type": "markdown",
   "metadata": {},
   "source": [
    "G. Finally, a look at other initial landscape characteristics. We run the flow accumulator for one time step, and from that produce a **map of drainage area contributing runoff to each cell**, which shows the downstream accumulation of runoff in the landsscape, and a **slope-drainage area plot for the initial landscape**. The slope-drainage area plot essentially tells us how closely the initial landscape fits our assumptions about fluvial processes. If most of the landscape has been shaped by fluvial processes following a simple rule like the equation we use for fluvial erosion (e), most grid cells with much drainage area should plot along a line, from low drainage area and high slope to high drainage area and low slope."
   ]
  },
  {
   "cell_type": "code",
   "execution_count": null,
   "metadata": {},
   "outputs": [],
   "source": [
    "fr.run_one_step()  # run the flow accumulator\n",
    "\n",
    "imshow_grid(\n",
    "    mg,\n",
    "    np.log10(mg.at_node[\"drainage_area\"] + 1.0),  # sq root helps show drainage\n",
    "    cmap=\"Blues\",\n",
    "    colorbar_label=\"Log10(drainage area (m2))\",\n",
    ")\n",
    "\n",
    "figure(\"initial slope-area plot\")\n",
    "loglog(mg.at_node[\"drainage_area\"], mg.at_node[\"topographic__steepest_slope\"], \".\")\n",
    "xlabel(\"Drainage area (km**2)\")\n",
    "ylabel(\"Local slope\")\n",
    "title(\"Slope-Area plot for whole landscape\")"
   ]
  },
  {
   "cell_type": "markdown",
   "metadata": {},
   "source": [
    "H. Now comes the actual simulation. No changes should be made in the code block below. Just run it, and you will see numbers from 0 to 1000 gradually appear showing how many time steps have been completed. **Be patient, it will take awhile**. It will run through 500 timesteps, each one 20 years long, so a total of 10,000 simulated years of landscape change. "
   ]
  },
  {
   "cell_type": "code",
   "execution_count": null,
   "metadata": {},
   "outputs": [],
   "source": [
    "#erosion by diffusion and stream power-based channel erosion and deposition, with uplift\n",
    "mg.at_node['t_erode_dep']-=mg.at_node['t_erode_dep']\n",
    "for i in range(nt+1):\n",
    "    if i > 450:\n",
    "        mg.at_node['erode_dep']-=mg.at_node['erode_dep']\n",
    "        mg.at_node['erode_dep']+=mg.at_node['topographic__elevation']\n",
    "    lin_diffuse.run_one_step(dt)\n",
    "    fr.run_one_step()\n",
    "    erode.run_one_step(dt)\n",
    "    if i > 450:\n",
    "        mg.at_node['erode_dep']-=mg.at_node['topographic__elevation']\n",
    "        mg.at_node['t_erode_dep']+=mg.at_node['erode_dep']\n",
    "    mg.at_node['topographic__elevation'][mg.core_nodes] += uplift_per_step\n",
    "    if i % 100 == 0:\n",
    "        print ('Completed loop %d' % i)\n",
    "mg.at_node['t_erode_dep']=mg.at_node['t_erode_dep']*0.001"
   ]
  },
  {
   "cell_type": "markdown",
   "metadata": {},
   "source": [
    "I. Okay, let's see some results. First, a map of topography at the end of the simulation. Compare this with the initial topography. Below that we'll plot another north-south elevation profile through the middle of the grid at the end of the simulation. Compare this to the initial profile. Finally, a map of average erosion rates in the last 50 timesteps (= the last 1000 years). This is showing you where the landscape is eroding faster and slower, and how much variation there is in erosion rates across the landscape as a whole."
   ]
  },
  {
   "cell_type": "code",
   "execution_count": null,
   "metadata": {},
   "outputs": [],
   "source": [
    "#show new topography        \n",
    "figure('topography')\n",
    "imshow_grid(mg, 'topographic__elevation', grid_units=['m','m'], var_name='Elevation (m)')\n",
    "\n",
    "#show new cross profile\n",
    "figure('topographic profile')\n",
    "elev_rast = mg.node_vector_to_raster(z)\n",
    "ycoord_rast = mg.node_vector_to_raster(mg.node_y)\n",
    "ncols = mg.number_of_node_columns\n",
    "im = plot(ycoord_rast[:, int(ncols // 2)], elev_rast[:, int(ncols // 2)])\n",
    "xlabel('horizontal distance (m)')\n",
    "ylabel('vertical distance (m)')\n",
    "title('N-S cross section')\n",
    "\n",
    "#show map of erosion or deposition every 20 steps\n",
    "figure('Erosion or Deposition')\n",
    "imshow_grid(mg, 't_erode_dep', var_name='Ave. Erosion (m/yr), Last 1000 Years')"
   ]
  },
  {
   "cell_type": "markdown",
   "metadata": {},
   "source": [
    "J. We can also plot a new map of drainage area and a new plot of slope vs. drainage area. We might expect the slope-drainage area plot to form more of a straight line after running the model with the simple equation we are using for stream power erosion, but we will see"
   ]
  },
  {
   "cell_type": "code",
   "execution_count": null,
   "metadata": {},
   "outputs": [],
   "source": [
    "imshow_grid(\n",
    "    mg,\n",
    "    np.log10(mg.at_node[\"drainage_area\"] + 1.0),  # sq root helps show drainage\n",
    "    cmap=\"Blues\",\n",
    "    colorbar_label=\"Log10(drainage area (m2))\",\n",
    ")\n",
    "\n",
    "figure(\"final slope-area plot\")\n",
    "loglog(mg.at_node[\"drainage_area\"], mg.at_node[\"topographic__steepest_slope\"], \".\")\n",
    "xlabel(\"Drainage area (km**2)\")\n",
    "ylabel(\"Local slope\")\n",
    "title(\"Slope-Area plot for whole landscape\")"
   ]
  }
 ],
 "metadata": {
  "kernelspec": {
   "display_name": "Python 3 (ipykernel)",
   "language": "python",
   "name": "python3"
  },
  "language_info": {
   "codemirror_mode": {
    "name": "ipython",
    "version": 3
   },
   "file_extension": ".py",
   "mimetype": "text/x-python",
   "name": "python",
   "nbconvert_exporter": "python",
   "pygments_lexer": "ipython3",
   "version": "3.9.13"
  }
 },
 "nbformat": 4,
 "nbformat_minor": 4
}
